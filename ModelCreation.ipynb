{
  "cells": [
    {
      "cell_type": "markdown",
      "metadata": {
        "id": "view-in-github",
        "colab_type": "text"
      },
      "source": [
        "<a href=\"https://colab.research.google.com/github/ibnuazman/CarPlateRecognition/blob/main/ModelCreation.ipynb\" target=\"_parent\"><img src=\"https://colab.research.google.com/assets/colab-badge.svg\" alt=\"Open In Colab\"/></a>"
      ]
    },
    {
      "cell_type": "markdown",
      "source": [
        "# Car Plate Recognition System"
      ],
      "metadata": {
        "id": "_csmF5CiphBK"
      }
    },
    {
      "cell_type": "markdown",
      "source": [
        "## Step 1: Setting the environment"
      ],
      "metadata": {
        "id": "yK4FKWUnv88c"
      }
    },
    {
      "cell_type": "code",
      "execution_count": null,
      "metadata": {
        "id": "Ug6KZwxZy5LA"
      },
      "outputs": [],
      "source": [
        "# Mount your google drive here to use the resources\n",
        "\n",
        "from google.colab import drive\n",
        "drive.mount('/content/drive')"
      ]
    },
    {
      "cell_type": "markdown",
      "source": [
        "Using YOLOv5 to create the model to detect the car plate on the car. Install roboflow to import the training image dataset that have been anotated to detect the car plate in every picture."
      ],
      "metadata": {
        "id": "MmmfOtTMqBqK"
      }
    },
    {
      "cell_type": "code",
      "execution_count": null,
      "metadata": {
        "id": "LY8R61ugkXLq"
      },
      "outputs": [],
      "source": [
        "# Clone YOLOv5 and install roboflow\n",
        "!git clone https://github.com/ultralytics/yolov5  # clone repo\n",
        "%cd yolov5\n",
        "%pip install -qr requirements.txt # install dependencies\n",
        "%pip install -q roboflow\n",
        "\n",
        "import torch\n",
        "import os\n",
        "from IPython.display import Image, clear_output  # to display images\n",
        "\n",
        "print(f\"Setup complete. Using torch {torch.__version__} ({torch.cuda.get_device_properties(0).name if torch.cuda.is_available() else 'CPU'})\")"
      ]
    },
    {
      "cell_type": "code",
      "execution_count": null,
      "metadata": {
        "id": "jaIC9nXyu4Pj"
      },
      "outputs": [],
      "source": [
        "from roboflow import Roboflow\n",
        "rf = Roboflow(model_format=\"yolov5\", notebook=\"ultralytics\")"
      ]
    },
    {
      "cell_type": "code",
      "execution_count": null,
      "metadata": {
        "id": "8POHZx7PyxMW"
      },
      "outputs": [],
      "source": [
        "# set up environment\n",
        "os.environ[\"DATASET_DIRECTORY\"] = \"/content/datasets\""
      ]
    },
    {
      "cell_type": "code",
      "execution_count": null,
      "metadata": {
        "id": "fASYqQsMvQsS"
      },
      "outputs": [],
      "source": [
        "from roboflow import Roboflow\n",
        "rf = Roboflow(api_key=\"qTUwmR8g0ZpYGHEQBDgU\")\n",
        "project = rf.workspace(\"international-islamic-university-malaysia-izt9f\").project(\"car-plate-njafw\")\n",
        "dataset = project.version(1).download(\"yolov5\")"
      ]
    },
    {
      "cell_type": "markdown",
      "source": [
        "## Step 2: Train the dataset"
      ],
      "metadata": {
        "id": "B-chkJrJqsG_"
      }
    },
    {
      "cell_type": "markdown",
      "source": [
        "Train the dataset using YOLOv5 with 300 epochs and yolov5s.pt model"
      ],
      "metadata": {
        "id": "HbuC9mswwZkL"
      }
    },
    {
      "cell_type": "code",
      "execution_count": null,
      "metadata": {
        "id": "5FeKDoPny1Ul"
      },
      "outputs": [],
      "source": [
        "!python3 train.py --img 416 --batch 16 --epochs 300 --data {dataset.location}/data.yaml --weights yolov5s.pt --cache"
      ]
    },
    {
      "cell_type": "markdown",
      "source": [
        "## Step 3: Model testing"
      ],
      "metadata": {
        "id": "YApin5x3wRWs"
      }
    },
    {
      "cell_type": "markdown",
      "source": [
        "Testing the dataset using the best model from previous training"
      ],
      "metadata": {
        "id": "R0LnYVmZrLkN"
      }
    },
    {
      "cell_type": "code",
      "execution_count": null,
      "metadata": {
        "id": "G5XoqHvf880I"
      },
      "outputs": [],
      "source": [
        "!python3 detect.py --weights runs/train/exp/weights/best.pt --img 416 --conf 0.5 --source {dataset.location}/test/images"
      ]
    },
    {
      "cell_type": "code",
      "execution_count": null,
      "metadata": {
        "id": "1PCznQju-2Od"
      },
      "outputs": [],
      "source": [
        "# Display inference on all test images\n",
        "\n",
        "import glob\n",
        "from IPython.display import Image, display\n",
        "\n",
        "for imageName in glob.glob('/content/yolov5/runs/detect/exp/*.jpg'): #assuming JPG\n",
        "    display(Image(filename=imageName))\n",
        "    print(\"\\n\")"
      ]
    },
    {
      "cell_type": "markdown",
      "source": [
        "## Step 4: Convert pt model to onnx"
      ],
      "metadata": {
        "id": "RWQBawTtt1lL"
      }
    },
    {
      "cell_type": "markdown",
      "source": [
        "Pytorch model (model.pt) will use CPU when running using Jetson Nano. The model need to be converted to onnx model (model.onnx) to run using Jetson Nano using GPU the make sure the program smooth."
      ],
      "metadata": {
        "id": "mhivHy5Hwyy5"
      }
    },
    {
      "cell_type": "code",
      "execution_count": null,
      "metadata": {
        "id": "7nOWQoTTw-RY"
      },
      "outputs": [],
      "source": [
        "%cd /content"
      ]
    },
    {
      "cell_type": "code",
      "source": [
        "!python3 /content/yolov5/export.py --weights runs/train/exp/weights/best.pt --batch-size 10 --imgsz 416 --include onnx --simplify"
      ],
      "metadata": {
        "id": "9czhMLM5DQ98"
      },
      "execution_count": null,
      "outputs": []
    },
    {
      "cell_type": "markdown",
      "source": [
        "## Step 5: Setting the environment in the Jetson Nano and run the program main.py"
      ],
      "metadata": {
        "id": "-Y4HJaH2yebz"
      }
    }
  ],
  "metadata": {
    "accelerator": "GPU",
    "colab": {
      "collapsed_sections": [],
      "name": "ModelCreation.ipynb",
      "provenance": [],
      "include_colab_link": true
    },
    "gpuClass": "standard",
    "kernelspec": {
      "display_name": "Python 3",
      "name": "python3"
    },
    "language_info": {
      "name": "python"
    }
  },
  "nbformat": 4,
  "nbformat_minor": 0
}